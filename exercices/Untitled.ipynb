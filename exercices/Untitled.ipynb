{
 "cells": [
  {
   "cell_type": "code",
   "execution_count": 2,
   "id": "2d0312d5",
   "metadata": {},
   "outputs": [],
   "source": [
    "import tensorflow as tf\n",
    "from tensorflow import keras\n",
    "from tensorflow.keras.preprocessing.text import Tokenizer\n",
    "from tensorflow.keras.preprocessing.sequence import pad_sequences"
   ]
  },
  {
   "cell_type": "code",
   "execution_count": 3,
   "id": "3e6907fb",
   "metadata": {},
   "outputs": [],
   "source": [
    "phrases = [\n",
    "    \"J'aime ma mère\",\n",
    "    \"J'aime mon père\",\n",
    "    \"J'adore ma famille\",\n",
    "    \"J'aime l'informatique\",\n",
    "    \"Je joue au football\"\n",
    "]"
   ]
  },
  {
   "cell_type": "code",
   "execution_count": 10,
   "id": "0bf9347d",
   "metadata": {},
   "outputs": [
    {
     "name": "stdout",
     "output_type": "stream",
     "text": [
      "{\"j'aime\": 1, 'ma': 2, 'mère': 3, 'mon': 4, 'père': 5, \"j'adore\": 6, 'famille': 7, \"l'informatique\": 8, 'je': 9, 'joue': 10, 'au': 11, 'football': 12}\n",
      "[[1, 2, 3], [1, 4, 5], [6, 2, 7], [1, 8], [9, 10, 11, 12]]\n",
      "\n",
      "[[ 0  1  2  3]\n",
      " [ 0  1  4  5]\n",
      " [ 0  6  2  7]\n",
      " [ 0  0  1  8]\n",
      " [ 9 10 11 12]]\n"
     ]
    }
   ],
   "source": [
    "tokenizer = Tokenizer(num_words=100)\n",
    "tokenizer.fit_on_texts(phrases)\n",
    "word_index = tokenizer.word_index\n",
    "\n",
    "sequence = tokenizer.texts_to_sequences(phrases)\n",
    "\n",
    "padded = pad_sequences(sequence)\n",
    "\n",
    "print(word_index)\n",
    "print(sequence)\n",
    "print()\n",
    "print(padded)"
   ]
  },
  {
   "cell_type": "code",
   "execution_count": 16,
   "id": "b3d2fc08",
   "metadata": {},
   "outputs": [],
   "source": [
    "padded_2 = pad_sequences(\n",
    "    sequence, \n",
    "    padding='post'\n",
    ")"
   ]
  },
  {
   "cell_type": "code",
   "execution_count": 17,
   "id": "7f038df9",
   "metadata": {},
   "outputs": [
    {
     "data": {
      "text/plain": [
       "array([[ 1,  2,  3,  0],\n",
       "       [ 1,  4,  5,  0],\n",
       "       [ 6,  2,  7,  0],\n",
       "       [ 1,  8,  0,  0],\n",
       "       [ 9, 10, 11, 12]])"
      ]
     },
     "execution_count": 17,
     "metadata": {},
     "output_type": "execute_result"
    }
   ],
   "source": [
    "padded_2"
   ]
  },
  {
   "cell_type": "code",
   "execution_count": 19,
   "id": "b1a8b83a",
   "metadata": {},
   "outputs": [],
   "source": [
    "padded_3 = pad_sequences(\n",
    "    sequence, \n",
    "    padding='post',\n",
    "    truncating='post'\n",
    ")"
   ]
  },
  {
   "cell_type": "code",
   "execution_count": 20,
   "id": "5860ae69",
   "metadata": {},
   "outputs": [
    {
     "data": {
      "text/plain": [
       "array([[ 1,  2,  3,  0],\n",
       "       [ 1,  4,  5,  0],\n",
       "       [ 6,  2,  7,  0],\n",
       "       [ 1,  8,  0,  0],\n",
       "       [ 9, 10, 11, 12]])"
      ]
     },
     "execution_count": 20,
     "metadata": {},
     "output_type": "execute_result"
    }
   ],
   "source": [
    "padded_3"
   ]
  },
  {
   "cell_type": "code",
   "execution_count": 23,
   "id": "bd9a09b2",
   "metadata": {},
   "outputs": [],
   "source": [
    "padded_4 = pad_sequences(\n",
    "    sequence, \n",
    "    padding='post',\n",
    "    truncating='post',\n",
    "    maxlen=5\n",
    ")"
   ]
  },
  {
   "cell_type": "code",
   "execution_count": 24,
   "id": "7445afa2",
   "metadata": {},
   "outputs": [
    {
     "data": {
      "text/plain": [
       "array([[ 1,  2,  3,  0,  0],\n",
       "       [ 1,  4,  5,  0,  0],\n",
       "       [ 6,  2,  7,  0,  0],\n",
       "       [ 1,  8,  0,  0,  0],\n",
       "       [ 9, 10, 11, 12,  0]])"
      ]
     },
     "execution_count": 24,
     "metadata": {},
     "output_type": "execute_result"
    }
   ],
   "source": [
    "padded_4"
   ]
  },
  {
   "cell_type": "code",
   "execution_count": null,
   "id": "5a23fec6",
   "metadata": {},
   "outputs": [],
   "source": []
  }
 ],
 "metadata": {
  "kernelspec": {
   "display_name": "Python 3",
   "language": "python",
   "name": "python3"
  },
  "language_info": {
   "codemirror_mode": {
    "name": "ipython",
    "version": 3
   },
   "file_extension": ".py",
   "mimetype": "text/x-python",
   "name": "python",
   "nbconvert_exporter": "python",
   "pygments_lexer": "ipython3",
   "version": "3.8.5"
  }
 },
 "nbformat": 4,
 "nbformat_minor": 5
}
